{
 "cells": [
  {
   "cell_type": "code",
   "execution_count": 1,
   "metadata": {},
   "outputs": [],
   "source": [
    "import json"
   ]
  },
  {
   "cell_type": "code",
   "execution_count": 2,
   "metadata": {},
   "outputs": [],
   "source": [
    "import numpy as np\n",
    "import pandas as pd"
   ]
  },
  {
   "cell_type": "code",
   "execution_count": 3,
   "metadata": {},
   "outputs": [
    {
     "name": "stdout",
     "output_type": "stream",
     "text": [
      "Requirement already satisfied: pytrends in c:\\users\\gurwinder kaur\\anaconda3\\lib\\site-packages (4.7.3)\n",
      "Requirement already satisfied: requests in c:\\users\\gurwinder kaur\\anaconda3\\lib\\site-packages (from pytrends) (2.24.0)\n",
      "Requirement already satisfied: pandas>=0.25 in c:\\users\\gurwinder kaur\\anaconda3\\lib\\site-packages (from pytrends) (1.0.5)\n",
      "Requirement already satisfied: lxml in c:\\users\\gurwinder kaur\\anaconda3\\lib\\site-packages (from pytrends) (4.5.2)\n",
      "Requirement already satisfied: urllib3!=1.25.0,!=1.25.1,<1.26,>=1.21.1 in c:\\users\\gurwinder kaur\\anaconda3\\lib\\site-packages (from requests->pytrends) (1.25.9)\n",
      "Requirement already satisfied: certifi>=2017.4.17 in c:\\users\\gurwinder kaur\\anaconda3\\lib\\site-packages (from requests->pytrends) (2020.6.20)\n",
      "Requirement already satisfied: chardet<4,>=3.0.2 in c:\\users\\gurwinder kaur\\anaconda3\\lib\\site-packages (from requests->pytrends) (3.0.4)\n",
      "Requirement already satisfied: idna<3,>=2.5 in c:\\users\\gurwinder kaur\\anaconda3\\lib\\site-packages (from requests->pytrends) (2.10)\n",
      "Requirement already satisfied: python-dateutil>=2.6.1 in c:\\users\\gurwinder kaur\\anaconda3\\lib\\site-packages (from pandas>=0.25->pytrends) (2.8.1)\n",
      "Requirement already satisfied: numpy>=1.13.3 in c:\\users\\gurwinder kaur\\anaconda3\\lib\\site-packages (from pandas>=0.25->pytrends) (1.18.5)\n",
      "Requirement already satisfied: pytz>=2017.2 in c:\\users\\gurwinder kaur\\anaconda3\\lib\\site-packages (from pandas>=0.25->pytrends) (2020.1)\n",
      "Requirement already satisfied: six>=1.5 in c:\\users\\gurwinder kaur\\anaconda3\\lib\\site-packages (from python-dateutil>=2.6.1->pandas>=0.25->pytrends) (1.15.0)\n"
     ]
    }
   ],
   "source": [
    "!pip install pytrends"
   ]
  },
  {
   "cell_type": "code",
   "execution_count": 3,
   "metadata": {},
   "outputs": [],
   "source": [
    "from pytrends.request import TrendReq"
   ]
  },
  {
   "cell_type": "code",
   "execution_count": 5,
   "metadata": {},
   "outputs": [
    {
     "name": "stdout",
     "output_type": "stream",
     "text": [
      "Note: you may need to restart the kernel to use updated packages.\n"
     ]
    },
    {
     "name": "stderr",
     "output_type": "stream",
     "text": [
      "'C:\\Users\\Gurwinder' is not recognized as an internal or external command,\n",
      "operable program or batch file.\n"
     ]
    }
   ],
   "source": [
    "pip install --upgrade google-auth"
   ]
  },
  {
   "cell_type": "code",
   "execution_count": 5,
   "metadata": {},
   "outputs": [],
   "source": [
    "pytrends = TrendReq(hl='en-US', tz=360)"
   ]
  },
  {
   "cell_type": "code",
   "execution_count": 4,
   "metadata": {},
   "outputs": [],
   "source": [
    "import requests"
   ]
  },
  {
   "cell_type": "code",
   "execution_count": null,
   "metadata": {},
   "outputs": [],
   "source": [
    "usr = input(\"Enter username : \") "
   ]
  },
  {
   "cell_type": "code",
   "execution_count": null,
   "metadata": {},
   "outputs": [],
   "source": [
    "pas = input(\"Enter password: \")"
   ]
  },
  {
   "cell_type": "code",
   "execution_count": 49,
   "metadata": {},
   "outputs": [],
   "source": [
    "r = requests.get('https://trends.google.com/trends', auth=(usr, pas))"
   ]
  },
  {
   "cell_type": "code",
   "execution_count": 44,
   "metadata": {},
   "outputs": [
    {
     "data": {
      "text/plain": [
       "200"
      ]
     },
     "execution_count": 44,
     "metadata": {},
     "output_type": "execute_result"
    }
   ],
   "source": [
    "r.status_code"
   ]
  },
  {
   "cell_type": "code",
   "execution_count": 14,
   "metadata": {},
   "outputs": [],
   "source": [
    "import time"
   ]
  },
  {
   "cell_type": "code",
   "execution_count": 15,
   "metadata": {},
   "outputs": [],
   "source": [
    "pytrend = TrendReq()"
   ]
  },
  {
   "cell_type": "code",
   "execution_count": 16,
   "metadata": {},
   "outputs": [
    {
     "name": "stdout",
     "output_type": "stream",
     "text": [
      "Enter keyword: Corona\n"
     ]
    }
   ],
   "source": [
    "key = input(\"Enter keyword: \")"
   ]
  },
  {
   "cell_type": "code",
   "execution_count": 17,
   "metadata": {},
   "outputs": [],
   "source": [
    "pytrend.build_payload(kw_list=[key])"
   ]
  },
  {
   "cell_type": "code",
   "execution_count": 18,
   "metadata": {
    "scrolled": true
   },
   "outputs": [
    {
     "data": {
      "text/html": [
       "<div>\n",
       "<style scoped>\n",
       "    .dataframe tbody tr th:only-of-type {\n",
       "        vertical-align: middle;\n",
       "    }\n",
       "\n",
       "    .dataframe tbody tr th {\n",
       "        vertical-align: top;\n",
       "    }\n",
       "\n",
       "    .dataframe thead th {\n",
       "        text-align: right;\n",
       "    }\n",
       "</style>\n",
       "<table border=\"1\" class=\"dataframe\">\n",
       "  <thead>\n",
       "    <tr style=\"text-align: right;\">\n",
       "      <th></th>\n",
       "      <th>Corona</th>\n",
       "    </tr>\n",
       "    <tr>\n",
       "      <th>geoName</th>\n",
       "      <th></th>\n",
       "    </tr>\n",
       "  </thead>\n",
       "  <tbody>\n",
       "    <tr>\n",
       "      <th>Afghanistan</th>\n",
       "      <td>0</td>\n",
       "    </tr>\n",
       "    <tr>\n",
       "      <th>Albania</th>\n",
       "      <td>0</td>\n",
       "    </tr>\n",
       "    <tr>\n",
       "      <th>Algeria</th>\n",
       "      <td>0</td>\n",
       "    </tr>\n",
       "    <tr>\n",
       "      <th>American Samoa</th>\n",
       "      <td>0</td>\n",
       "    </tr>\n",
       "    <tr>\n",
       "      <th>Andorra</th>\n",
       "      <td>0</td>\n",
       "    </tr>\n",
       "    <tr>\n",
       "      <th>Angola</th>\n",
       "      <td>0</td>\n",
       "    </tr>\n",
       "    <tr>\n",
       "      <th>Anguilla</th>\n",
       "      <td>0</td>\n",
       "    </tr>\n",
       "    <tr>\n",
       "      <th>Antarctica</th>\n",
       "      <td>0</td>\n",
       "    </tr>\n",
       "    <tr>\n",
       "      <th>Antigua &amp; Barbuda</th>\n",
       "      <td>0</td>\n",
       "    </tr>\n",
       "    <tr>\n",
       "      <th>Argentina</th>\n",
       "      <td>6</td>\n",
       "    </tr>\n",
       "  </tbody>\n",
       "</table>\n",
       "</div>"
      ],
      "text/plain": [
       "                   Corona\n",
       "geoName                  \n",
       "Afghanistan             0\n",
       "Albania                 0\n",
       "Algeria                 0\n",
       "American Samoa          0\n",
       "Andorra                 0\n",
       "Angola                  0\n",
       "Anguilla                0\n",
       "Antarctica              0\n",
       "Antigua & Barbuda       0\n",
       "Argentina               6"
      ]
     },
     "execution_count": 18,
     "metadata": {},
     "output_type": "execute_result"
    }
   ],
   "source": [
    "# Interest by Region\n",
    "df = pytrend.interest_by_region(resolution='COUNTRY', inc_geo_code=False)\n",
    "df.head(10)"
   ]
  },
  {
   "cell_type": "code",
   "execution_count": null,
   "metadata": {},
   "outputs": [],
   "source": []
  },
  {
   "cell_type": "code",
   "execution_count": 19,
   "metadata": {},
   "outputs": [
    {
     "data": {
      "text/html": [
       "<div>\n",
       "<style scoped>\n",
       "    .dataframe tbody tr th:only-of-type {\n",
       "        vertical-align: middle;\n",
       "    }\n",
       "\n",
       "    .dataframe tbody tr th {\n",
       "        vertical-align: top;\n",
       "    }\n",
       "\n",
       "    .dataframe thead th {\n",
       "        text-align: right;\n",
       "    }\n",
       "</style>\n",
       "<table border=\"1\" class=\"dataframe\">\n",
       "  <thead>\n",
       "    <tr style=\"text-align: right;\">\n",
       "      <th></th>\n",
       "      <th>0</th>\n",
       "    </tr>\n",
       "  </thead>\n",
       "  <tbody>\n",
       "    <tr>\n",
       "      <th>0</th>\n",
       "      <td>YouTube down</td>\n",
       "    </tr>\n",
       "    <tr>\n",
       "      <th>1</th>\n",
       "      <td>Electoral College</td>\n",
       "    </tr>\n",
       "    <tr>\n",
       "      <th>2</th>\n",
       "      <td>Weather forecast</td>\n",
       "    </tr>\n",
       "    <tr>\n",
       "      <th>3</th>\n",
       "      <td>Andrew Cuomo</td>\n",
       "    </tr>\n",
       "    <tr>\n",
       "      <th>4</th>\n",
       "      <td>SolarWinds</td>\n",
       "    </tr>\n",
       "  </tbody>\n",
       "</table>\n",
       "</div>"
      ],
      "text/plain": [
       "                   0\n",
       "0       YouTube down\n",
       "1  Electoral College\n",
       "2   Weather forecast\n",
       "3       Andrew Cuomo\n",
       "4         SolarWinds"
      ]
     },
     "execution_count": 19,
     "metadata": {},
     "output_type": "execute_result"
    }
   ],
   "source": [
    "# Get Google Hot Trends data\n",
    "df = pytrend.trending_searches(pn='united_states')\n",
    "df.head()"
   ]
  },
  {
   "cell_type": "code",
   "execution_count": 20,
   "metadata": {},
   "outputs": [
    {
     "data": {
      "text/plain": [
       "0         YouTube down\n",
       "1    Electoral College\n",
       "2     Weather forecast\n",
       "3         Andrew Cuomo\n",
       "4           SolarWinds\n",
       "Name: query, dtype: object"
      ]
     },
     "execution_count": 20,
     "metadata": {},
     "output_type": "execute_result"
    }
   ],
   "source": [
    "df = pytrend.today_searches(pn='US')\n",
    "df.head()"
   ]
  },
  {
   "cell_type": "code",
   "execution_count": 21,
   "metadata": {},
   "outputs": [
    {
     "data": {
      "text/html": [
       "<div>\n",
       "<style scoped>\n",
       "    .dataframe tbody tr th:only-of-type {\n",
       "        vertical-align: middle;\n",
       "    }\n",
       "\n",
       "    .dataframe tbody tr th {\n",
       "        vertical-align: top;\n",
       "    }\n",
       "\n",
       "    .dataframe thead th {\n",
       "        text-align: right;\n",
       "    }\n",
       "</style>\n",
       "<table border=\"1\" class=\"dataframe\">\n",
       "  <thead>\n",
       "    <tr style=\"text-align: right;\">\n",
       "      <th></th>\n",
       "      <th>title</th>\n",
       "      <th>exploreQuery</th>\n",
       "    </tr>\n",
       "  </thead>\n",
       "  <tbody>\n",
       "    <tr>\n",
       "      <th>0</th>\n",
       "      <td>Coronavirus</td>\n",
       "      <td></td>\n",
       "    </tr>\n",
       "    <tr>\n",
       "      <th>1</th>\n",
       "      <td>Election results</td>\n",
       "      <td></td>\n",
       "    </tr>\n",
       "    <tr>\n",
       "      <th>2</th>\n",
       "      <td>Kobe Bryant</td>\n",
       "      <td></td>\n",
       "    </tr>\n",
       "    <tr>\n",
       "      <th>3</th>\n",
       "      <td>Zoom</td>\n",
       "      <td></td>\n",
       "    </tr>\n",
       "    <tr>\n",
       "      <th>4</th>\n",
       "      <td>IPL</td>\n",
       "      <td></td>\n",
       "    </tr>\n",
       "  </tbody>\n",
       "</table>\n",
       "</div>"
      ],
      "text/plain": [
       "              title exploreQuery\n",
       "0       Coronavirus             \n",
       "1  Election results             \n",
       "2       Kobe Bryant             \n",
       "3              Zoom             \n",
       "4               IPL             "
      ]
     },
     "execution_count": 21,
     "metadata": {},
     "output_type": "execute_result"
    }
   ],
   "source": [
    "# Get Google Top Charts\n",
    "df = pytrend.top_charts(2020, hl='en-US', tz=300, geo='GLOBAL')\n",
    "df.head()"
   ]
  },
  {
   "cell_type": "code",
   "execution_count": 22,
   "metadata": {
    "scrolled": false
   },
   "outputs": [
    {
     "data": {
      "text/html": [
       "<div>\n",
       "<style scoped>\n",
       "    .dataframe tbody tr th:only-of-type {\n",
       "        vertical-align: middle;\n",
       "    }\n",
       "\n",
       "    .dataframe tbody tr th {\n",
       "        vertical-align: top;\n",
       "    }\n",
       "\n",
       "    .dataframe thead th {\n",
       "        text-align: right;\n",
       "    }\n",
       "</style>\n",
       "<table border=\"1\" class=\"dataframe\">\n",
       "  <thead>\n",
       "    <tr style=\"text-align: right;\">\n",
       "      <th></th>\n",
       "      <th>title</th>\n",
       "      <th>type</th>\n",
       "    </tr>\n",
       "  </thead>\n",
       "  <tbody>\n",
       "    <tr>\n",
       "      <th>0</th>\n",
       "      <td>Mercedes-Benz</td>\n",
       "      <td>Luxury vehicles company</td>\n",
       "    </tr>\n",
       "    <tr>\n",
       "      <th>1</th>\n",
       "      <td>Mercedes-Benz C-Class</td>\n",
       "      <td>Mid-size car</td>\n",
       "    </tr>\n",
       "    <tr>\n",
       "      <th>2</th>\n",
       "      <td>Mercedes-Benz GLE-Class</td>\n",
       "      <td>Luxury vehicle</td>\n",
       "    </tr>\n",
       "    <tr>\n",
       "      <th>3</th>\n",
       "      <td>Mercedes-Benz S-Class</td>\n",
       "      <td>Luxury vehicle</td>\n",
       "    </tr>\n",
       "    <tr>\n",
       "      <th>4</th>\n",
       "      <td>Mercedes-Benz E-Class</td>\n",
       "      <td>Luxury vehicle</td>\n",
       "    </tr>\n",
       "  </tbody>\n",
       "</table>\n",
       "</div>"
      ],
      "text/plain": [
       "                     title                     type\n",
       "0            Mercedes-Benz  Luxury vehicles company\n",
       "1    Mercedes-Benz C-Class             Mid-size car\n",
       "2  Mercedes-Benz GLE-Class           Luxury vehicle\n",
       "3    Mercedes-Benz S-Class           Luxury vehicle\n",
       "4    Mercedes-Benz E-Class           Luxury vehicle"
      ]
     },
     "execution_count": 22,
     "metadata": {},
     "output_type": "execute_result"
    }
   ],
   "source": [
    "# Get Google Keyword Suggestions\n",
    "keywords = pytrend.suggestions(keyword='Mercedes Benz')\n",
    "df = pd.DataFrame(keywords)\n",
    "df.drop(columns= 'mid')   # This column makes no sense"
   ]
  },
  {
   "cell_type": "code",
   "execution_count": 23,
   "metadata": {},
   "outputs": [],
   "source": [
    "df.rename(columns = {\"title\":\"Title \", \"type\":\"Type \"}, inplace = True)"
   ]
  },
  {
   "cell_type": "code",
   "execution_count": 24,
   "metadata": {},
   "outputs": [],
   "source": [
    "df= df.drop(columns= 'mid')"
   ]
  },
  {
   "cell_type": "code",
   "execution_count": 25,
   "metadata": {},
   "outputs": [
    {
     "data": {
      "text/html": [
       "<div>\n",
       "<style scoped>\n",
       "    .dataframe tbody tr th:only-of-type {\n",
       "        vertical-align: middle;\n",
       "    }\n",
       "\n",
       "    .dataframe tbody tr th {\n",
       "        vertical-align: top;\n",
       "    }\n",
       "\n",
       "    .dataframe thead th {\n",
       "        text-align: right;\n",
       "    }\n",
       "</style>\n",
       "<table border=\"1\" class=\"dataframe\">\n",
       "  <thead>\n",
       "    <tr style=\"text-align: right;\">\n",
       "      <th></th>\n",
       "      <th>Title</th>\n",
       "      <th>Type</th>\n",
       "    </tr>\n",
       "  </thead>\n",
       "  <tbody>\n",
       "    <tr>\n",
       "      <th>0</th>\n",
       "      <td>Mercedes-Benz</td>\n",
       "      <td>Luxury vehicles company</td>\n",
       "    </tr>\n",
       "    <tr>\n",
       "      <th>1</th>\n",
       "      <td>Mercedes-Benz C-Class</td>\n",
       "      <td>Mid-size car</td>\n",
       "    </tr>\n",
       "    <tr>\n",
       "      <th>2</th>\n",
       "      <td>Mercedes-Benz GLE-Class</td>\n",
       "      <td>Luxury vehicle</td>\n",
       "    </tr>\n",
       "    <tr>\n",
       "      <th>3</th>\n",
       "      <td>Mercedes-Benz S-Class</td>\n",
       "      <td>Luxury vehicle</td>\n",
       "    </tr>\n",
       "    <tr>\n",
       "      <th>4</th>\n",
       "      <td>Mercedes-Benz E-Class</td>\n",
       "      <td>Luxury vehicle</td>\n",
       "    </tr>\n",
       "  </tbody>\n",
       "</table>\n",
       "</div>"
      ],
      "text/plain": [
       "                    Title                     Type \n",
       "0            Mercedes-Benz  Luxury vehicles company\n",
       "1    Mercedes-Benz C-Class             Mid-size car\n",
       "2  Mercedes-Benz GLE-Class           Luxury vehicle\n",
       "3    Mercedes-Benz S-Class           Luxury vehicle\n",
       "4    Mercedes-Benz E-Class           Luxury vehicle"
      ]
     },
     "execution_count": 25,
     "metadata": {},
     "output_type": "execute_result"
    }
   ],
   "source": [
    "df"
   ]
  },
  {
   "cell_type": "code",
   "execution_count": 26,
   "metadata": {},
   "outputs": [],
   "source": [
    "df.to_csv('TestKeyword1.csv',sep='\\t', index=False)"
   ]
  },
  {
   "cell_type": "code",
   "execution_count": 27,
   "metadata": {},
   "outputs": [],
   "source": [
    "df.to_excel(\"TestKey2.xlsx\", index=False)"
   ]
  },
  {
   "cell_type": "code",
   "execution_count": 28,
   "metadata": {},
   "outputs": [],
   "source": [
    "pytrend.build_payload(kw_list=['IPL'])"
   ]
  },
  {
   "cell_type": "code",
   "execution_count": 29,
   "metadata": {},
   "outputs": [
    {
     "data": {
      "text/plain": [
       "dict_values([{'top':                query  value\n",
       "0           ipl live    100\n",
       "1          score ipl     89\n",
       "2           ipl 2020     71\n",
       "3     ipl live score     59\n",
       "4         live score     57\n",
       "5          ipl match     56\n",
       "6          ipl table     48\n",
       "7           ipl 2019     42\n",
       "8       ipl schedule     30\n",
       "9          today ipl     30\n",
       "10          ipl 2018     30\n",
       "11  points table ipl     26\n",
       "12      points table     26\n",
       "13   today ipl match     23\n",
       "14          ipl 2017     18\n",
       "15     ipl 2020 live     15\n",
       "16         ipl point     15\n",
       "17       cricket ipl     15\n",
       "18   ipl point table     14\n",
       "19       point table     14\n",
       "20          ipl list     12\n",
       "21    live ipl match     12\n",
       "22          ipl 2016     11\n",
       "23      cricbuzz ipl     10\n",
       "24    ipl table 2020     10, 'rising':                     query   value\n",
       "0                ipl 2019  188500\n",
       "1   ipl points table 2020  173450\n",
       "2           live ipl 2019  149700\n",
       "3          ipl table 2020  138250\n",
       "4                ipl 2018  116750\n",
       "5                ipl 2017  109450\n",
       "6   ipl points table 2018   98200\n",
       "7    point table ipl 2019   97550\n",
       "8          ipl score 2019   76900\n",
       "9     ipl live score 2019   75100\n",
       "10   ipl point table 2019   73950\n",
       "11         ipl score 2018   66950\n",
       "12      ipl 2020 schedule   66600\n",
       "13          ipl 2018 live   65000\n",
       "14   ipl point table 2018   62250\n",
       "15      ipl schedule 2019   61650\n",
       "16      ipl 2019 schedule   60600\n",
       "17  ipl points table 2019   58350\n",
       "18         ipl 2020 score   56300\n",
       "19          ipl 2019 list   52150\n",
       "20          vivo ipl 2019   49450\n",
       "21    ipl 2020 live score   49200\n",
       "22          ipl 2020 list   44550\n",
       "23               ipl 2020   43400\n",
       "24         ipl match 2020   41100}])"
      ]
     },
     "execution_count": 29,
     "metadata": {},
     "output_type": "execute_result"
    }
   ],
   "source": [
    "# Related Queries, returns a dictionary of dataframes\n",
    "related_queries = pytrend.related_queries()\n",
    "related_queries.values()"
   ]
  },
  {
   "cell_type": "code",
   "execution_count": 30,
   "metadata": {
    "scrolled": false
   },
   "outputs": [
    {
     "data": {
      "text/plain": [
       "dict_values([{'rising':      value formattedValue                                            link  \\\n",
       "0   507500       Breakout  /trends/explore?q=/g/11f6593n2n&date=today+5-y   \n",
       "1   138600       Breakout  /trends/explore?q=/g/11b77b4nf8&date=today+5-y   \n",
       "2   123700       Breakout  /trends/explore?q=/g/11c1sz_5k9&date=today+5-y   \n",
       "3   101900       Breakout   /trends/explore?q=/g/11x1ngsf3&date=today+5-y   \n",
       "4    53150       Breakout  /trends/explore?q=/g/11b77d3kyh&date=today+5-y   \n",
       "5    41550       Breakout  /trends/explore?q=/g/11dyzdn2hn&date=today+5-y   \n",
       "6    17750       Breakout  /trends/explore?q=/g/11h4yld3j_&date=today+5-y   \n",
       "7    15300       Breakout  /trends/explore?q=/g/11bxfyv_0v&date=today+5-y   \n",
       "8    14400       Breakout  /trends/explore?q=/g/11bxfxbd_c&date=today+5-y   \n",
       "9    10800       Breakout  /trends/explore?q=/g/11f647vn4y&date=today+5-y   \n",
       "10    5900       Breakout  /trends/explore?q=/g/11fkr1gbf9&date=today+5-y   \n",
       "11    5750       Breakout  /trends/explore?q=/g/11bwfm86_8&date=today+5-y   \n",
       "12    5300       Breakout  /trends/explore?q=/g/11df0ps4l_&date=today+5-y   \n",
       "13    4900        +4,900%  /trends/explore?q=/g/11byyf4rm9&date=today+5-y   \n",
       "14    4450        +4,450%  /trends/explore?q=/g/11c3tfyxvm&date=today+5-y   \n",
       "15    4400        +4,400%  /trends/explore?q=/g/11f5lxwl_v&date=today+5-y   \n",
       "16    3550        +3,550%     /trends/explore?q=/m/0bxz543&date=today+5-y   \n",
       "17    2850        +2,850%  /trends/explore?q=/g/11fk1k6h9j&date=today+5-y   \n",
       "18    2650        +2,650%      /trends/explore?q=/m/0cxvrj&date=today+5-y   \n",
       "19    1850        +1,850%    /trends/explore?q=/m/0134cq3_&date=today+5-y   \n",
       "20    1750        +1,750%     /trends/explore?q=/m/0pcm48c&date=today+5-y   \n",
       "21    1750        +1,750%  /trends/explore?q=/g/11bxxqwz6f&date=today+5-y   \n",
       "22    1100        +1,100%     /trends/explore?q=/m/047rc5n&date=today+5-y   \n",
       "23     600          +600%     /trends/explore?q=/m/0fpgpnd&date=today+5-y   \n",
       "24     550          +550%     /trends/explore?q=/m/0h7qrz6&date=today+5-y   \n",
       "\n",
       "        topic_mid                        topic_title  \\\n",
       "0   /g/11f6593n2n         2019 Indian Premier League   \n",
       "1   /g/11b77b4nf8                               2018   \n",
       "2   /g/11c1sz_5k9         2017 Indian Premier League   \n",
       "3    /g/11x1ngsf3                               2019   \n",
       "4   /g/11b77d3kyh                               2020   \n",
       "5   /g/11dyzdn2hn         2018 Indian Premier League   \n",
       "6   /g/11h4yld3j_         2020 Indian Premier League   \n",
       "7   /g/11bxfyv_0v                      Gujarat Lions   \n",
       "8   /g/11bxfxbd_c             Rising Pune Supergiant   \n",
       "9   /g/11f647vn4y   2018 Indian Premier League Final   \n",
       "10  /g/11fkr1gbf9  Cricket at the 2019 Pacific Games   \n",
       "11  /g/11bwfm86_8                        Rashid Khan   \n",
       "12  /g/11df0ps4l_   2017 Indian Premier League Final   \n",
       "13  /g/11byyf4rm9   2016 Indian Premier League Final   \n",
       "14  /g/11c3tfyxvm                       Rishabh Pant   \n",
       "15  /g/11f5lxwl_v                            Dream11   \n",
       "16     /m/0bxz543                         Ben Stokes   \n",
       "17  /g/11fk1k6h9j   2019 Indian Premier League Final   \n",
       "18      /m/0cxvrj         2019 ICC Cricket World Cup   \n",
       "19    /m/0134cq3_         2016 Indian Premier League   \n",
       "20     /m/0pcm48c                        K. L. Rahul   \n",
       "21  /g/11bxxqwz6f                      Hardik Pandya   \n",
       "22     /m/047rc5n       Sheikh Zayed Cricket Stadium   \n",
       "23     /m/0fpgpnd                      Andre Russell   \n",
       "24     /m/0h7qrz6              Pakistan Super League   \n",
       "\n",
       "                                    topic_type  \n",
       "0                                   Tournament  \n",
       "1                                        Topic  \n",
       "2                                   Tournament  \n",
       "3                                        Topic  \n",
       "4                                        Topic  \n",
       "5                         Sports league season  \n",
       "6                                   Tournament  \n",
       "7                                 Cricket team  \n",
       "8                                 Cricket team  \n",
       "9                                   Tournament  \n",
       "10                                       Event  \n",
       "11                            Afghan cricketer  \n",
       "12                                  Tournament  \n",
       "13                                  Tournament  \n",
       "14                            Indian cricketer  \n",
       "15                                       Topic  \n",
       "16                                   Cricketer  \n",
       "17                                  Tournament  \n",
       "18                                  Tournament  \n",
       "19                        Sports league season  \n",
       "20                            Indian cricketer  \n",
       "21                            Indian cricketer  \n",
       "22  Stadium in Abu Dhabi, United Arab Emirates  \n",
       "23                          Jamaican cricketer  \n",
       "24                                      League  , 'top':     value formattedValue  hasData  \\\n",
       "0     100            100     True   \n",
       "1      17             17     True   \n",
       "2      15             15     True   \n",
       "3       8              8     True   \n",
       "4       6              6     True   \n",
       "5       5              5     True   \n",
       "6       4              4     True   \n",
       "7       4              4     True   \n",
       "8       4              4     True   \n",
       "9       4              4     True   \n",
       "10      3              3     True   \n",
       "11      2              2     True   \n",
       "12      2              2     True   \n",
       "13      2              2     True   \n",
       "14      2              2     True   \n",
       "15      2              2     True   \n",
       "16      2              2     True   \n",
       "17      2              2     True   \n",
       "18      1              1     True   \n",
       "19      1              1     True   \n",
       "20      1              1     True   \n",
       "21      1              1     True   \n",
       "22      1              1     True   \n",
       "23      1              1     True   \n",
       "24      0             <1     True   \n",
       "\n",
       "                                              link      topic_mid  \\\n",
       "0      /trends/explore?q=/m/03b_lm1&date=today+5-y     /m/03b_lm1   \n",
       "1   /trends/explore?q=/g/11b77d3kyh&date=today+5-y  /g/11b77d3kyh   \n",
       "2   /trends/explore?q=/g/11h4yld3j_&date=today+5-y  /g/11h4yld3j_   \n",
       "3   /trends/explore?q=/g/11f6593n2n&date=today+5-y  /g/11f6593n2n   \n",
       "4   /trends/explore?q=/g/11b77b4nf8&date=today+5-y  /g/11b77b4nf8   \n",
       "5   /trends/explore?q=/g/11dyzdn2hn&date=today+5-y  /g/11dyzdn2hn   \n",
       "6        /trends/explore?q=/m/09xp_&date=today+5-y       /m/09xp_   \n",
       "7    /trends/explore?q=/g/11x1ngsf3&date=today+5-y   /g/11x1ngsf3   \n",
       "8       /trends/explore?q=/m/011l78&date=today+5-y      /m/011l78   \n",
       "9   /trends/explore?q=/g/11c1sz_5k9&date=today+5-y  /g/11c1sz_5k9   \n",
       "10  /trends/explore?q=/g/11b8tw8qgj&date=today+5-y  /g/11b8tw8qgj   \n",
       "11    /trends/explore?q=/m/0134cq3_&date=today+5-y    /m/0134cq3_   \n",
       "12      /trends/explore?q=/m/03b34z&date=today+5-y      /m/03b34z   \n",
       "13     /trends/explore?q=/m/03nwvqm&date=today+5-y     /m/03nwvqm   \n",
       "14      /trends/explore?q=/m/02vzx9&date=today+5-y      /m/02vzx9   \n",
       "15      /trends/explore?q=/m/01rlk3&date=today+5-y      /m/01rlk3   \n",
       "16     /trends/explore?q=/m/03nxlj5&date=today+5-y     /m/03nxlj5   \n",
       "17     /trends/explore?q=/m/03nxc_0&date=today+5-y     /m/03nxc_0   \n",
       "18     /trends/explore?q=/m/03nx8jd&date=today+5-y     /m/03nx8jd   \n",
       "19       /trends/explore?q=/m/0gz6g&date=today+5-y       /m/0gz6g   \n",
       "20     /trends/explore?q=/m/0pb5c_p&date=today+5-y     /m/0pb5c_p   \n",
       "21     /trends/explore?q=/m/03nw_vc&date=today+5-y     /m/03nw_vc   \n",
       "22     /trends/explore?q=/m/03nxlh4&date=today+5-y     /m/03nxlh4   \n",
       "23     /trends/explore?q=/m/03nxlgg&date=today+5-y     /m/03nxlgg   \n",
       "24  /trends/explore?q=/g/11f5lxwl_v&date=today+5-y  /g/11f5lxwl_v   \n",
       "\n",
       "                    topic_title            topic_type  \n",
       "0         Indian Premier League        Cricket league  \n",
       "1                          2020                 Topic  \n",
       "2    2020 Indian Premier League            Tournament  \n",
       "3    2019 Indian Premier League            Tournament  \n",
       "4                          2018                 Topic  \n",
       "5    2018 Indian Premier League  Sports league season  \n",
       "6                       Cricket                 Topic  \n",
       "7                          2019                 Topic  \n",
       "8                          Team                 Topic  \n",
       "9    2017 Indian Premier League            Tournament  \n",
       "10                     CricBuzz               Website  \n",
       "11   2016 Indian Premier League  Sports league season  \n",
       "12                     Twenty20                 Sport  \n",
       "13          Chennai Super Kings          Cricket team  \n",
       "14                       Player                  Game  \n",
       "15         Intense pulsed light                 Topic  \n",
       "16               Mumbai Indians          Cricket team  \n",
       "17  Royal Challengers Bangalore          Cricket team  \n",
       "18        Kolkata Knight Riders          Cricket team  \n",
       "19                      Auction                 Topic  \n",
       "20          Sunrisers Hyderabad          Cricket team  \n",
       "21               Delhi Capitals          Cricket team  \n",
       "22              Kings XI Punjab          Cricket team  \n",
       "23             Rajasthan Royals          Cricket team  \n",
       "24                      Dream11                 Topic  }])"
      ]
     },
     "execution_count": 30,
     "metadata": {},
     "output_type": "execute_result"
    }
   ],
   "source": [
    "# Related Topics, returns a dictionary of dataframes\n",
    "related_topic = pytrend.related_topics()\n",
    "related_topic.values()"
   ]
  },
  {
   "cell_type": "code",
   "execution_count": 31,
   "metadata": {},
   "outputs": [],
   "source": [
    "dt = pd.DataFrame({'rising'})"
   ]
  },
  {
   "cell_type": "code",
   "execution_count": 32,
   "metadata": {},
   "outputs": [
    {
     "ename": "ModuleNotFoundError",
     "evalue": "No module named 'datorama'",
     "output_type": "error",
     "traceback": [
      "\u001b[1;31m---------------------------------------------------------------------------\u001b[0m",
      "\u001b[1;31mModuleNotFoundError\u001b[0m                       Traceback (most recent call last)",
      "\u001b[1;32m<ipython-input-32-f3cdc72610de>\u001b[0m in \u001b[0;36m<module>\u001b[1;34m\u001b[0m\n\u001b[1;32m----> 1\u001b[1;33m \u001b[1;32mimport\u001b[0m \u001b[0mdatorama\u001b[0m\u001b[1;33m\u001b[0m\u001b[1;33m\u001b[0m\u001b[0m\n\u001b[0m",
      "\u001b[1;31mModuleNotFoundError\u001b[0m: No module named 'datorama'"
     ]
    }
   ],
   "source": [
    "import datorama"
   ]
  },
  {
   "cell_type": "code",
   "execution_count": 33,
   "metadata": {},
   "outputs": [],
   "source": [
    "dt.to_csv('MyTrends.csv',sep='\\t')"
   ]
  },
  {
   "cell_type": "code",
   "execution_count": 34,
   "metadata": {},
   "outputs": [
    {
     "data": {
      "text/html": [
       "<div>\n",
       "<style scoped>\n",
       "    .dataframe tbody tr th:only-of-type {\n",
       "        vertical-align: middle;\n",
       "    }\n",
       "\n",
       "    .dataframe tbody tr th {\n",
       "        vertical-align: top;\n",
       "    }\n",
       "\n",
       "    .dataframe thead th {\n",
       "        text-align: right;\n",
       "    }\n",
       "</style>\n",
       "<table border=\"1\" class=\"dataframe\">\n",
       "  <thead>\n",
       "    <tr style=\"text-align: right;\">\n",
       "      <th></th>\n",
       "      <th>0</th>\n",
       "    </tr>\n",
       "  </thead>\n",
       "  <tbody>\n",
       "    <tr>\n",
       "      <th>0</th>\n",
       "      <td>rising</td>\n",
       "    </tr>\n",
       "  </tbody>\n",
       "</table>\n",
       "</div>"
      ],
      "text/plain": [
       "        0\n",
       "0  rising"
      ]
     },
     "execution_count": 34,
     "metadata": {},
     "output_type": "execute_result"
    }
   ],
   "source": [
    "dt.head()"
   ]
  },
  {
   "cell_type": "code",
   "execution_count": 35,
   "metadata": {},
   "outputs": [],
   "source": [
    "import json"
   ]
  },
  {
   "cell_type": "code",
   "execution_count": 36,
   "metadata": {},
   "outputs": [
    {
     "data": {
      "text/html": [
       "<div>\n",
       "<style scoped>\n",
       "    .dataframe tbody tr th:only-of-type {\n",
       "        vertical-align: middle;\n",
       "    }\n",
       "\n",
       "    .dataframe tbody tr th {\n",
       "        vertical-align: top;\n",
       "    }\n",
       "\n",
       "    .dataframe thead th {\n",
       "        text-align: right;\n",
       "    }\n",
       "</style>\n",
       "<table border=\"1\" class=\"dataframe\">\n",
       "  <thead>\n",
       "    <tr style=\"text-align: right;\">\n",
       "      <th></th>\n",
       "      <th>Title</th>\n",
       "      <th>Type</th>\n",
       "    </tr>\n",
       "  </thead>\n",
       "  <tbody>\n",
       "    <tr>\n",
       "      <th>0</th>\n",
       "      <td>Mercedes-Benz</td>\n",
       "      <td>Luxury vehicles company</td>\n",
       "    </tr>\n",
       "    <tr>\n",
       "      <th>1</th>\n",
       "      <td>Mercedes-Benz C-Class</td>\n",
       "      <td>Mid-size car</td>\n",
       "    </tr>\n",
       "    <tr>\n",
       "      <th>2</th>\n",
       "      <td>Mercedes-Benz GLE-Class</td>\n",
       "      <td>Luxury vehicle</td>\n",
       "    </tr>\n",
       "    <tr>\n",
       "      <th>3</th>\n",
       "      <td>Mercedes-Benz S-Class</td>\n",
       "      <td>Luxury vehicle</td>\n",
       "    </tr>\n",
       "    <tr>\n",
       "      <th>4</th>\n",
       "      <td>Mercedes-Benz E-Class</td>\n",
       "      <td>Luxury vehicle</td>\n",
       "    </tr>\n",
       "  </tbody>\n",
       "</table>\n",
       "</div>"
      ],
      "text/plain": [
       "                    Title                     Type \n",
       "0            Mercedes-Benz  Luxury vehicles company\n",
       "1    Mercedes-Benz C-Class             Mid-size car\n",
       "2  Mercedes-Benz GLE-Class           Luxury vehicle\n",
       "3    Mercedes-Benz S-Class           Luxury vehicle\n",
       "4    Mercedes-Benz E-Class           Luxury vehicle"
      ]
     },
     "execution_count": 36,
     "metadata": {},
     "output_type": "execute_result"
    }
   ],
   "source": [
    "df"
   ]
  },
  {
   "cell_type": "code",
   "execution_count": 37,
   "metadata": {},
   "outputs": [
    {
     "data": {
      "text/plain": [
       "'{\"columns\": [\"Title \", \"Type \"], \"index\": [0, 1, 2, 3, 4], \"data\": [[\"Mercedes-Benz\", \"Luxury vehicles company\"], [\"Mercedes-Benz C-Class\", \"Mid-size car\"], [\"Mercedes-Benz GLE-Class\", \"Luxury vehicle\"], [\"Mercedes-Benz S-Class\", \"Luxury vehicle\"], [\"Mercedes-Benz E-Class\", \"Luxury vehicle\"]]}'"
      ]
     },
     "execution_count": 37,
     "metadata": {},
     "output_type": "execute_result"
    }
   ],
   "source": [
    "result = df.to_json(orient=\"split\")\n",
    "parsed = json.loads(result)\n",
    "json.dumps(parsed)"
   ]
  },
  {
   "cell_type": "code",
   "execution_count": 38,
   "metadata": {},
   "outputs": [
    {
     "data": {
      "text/plain": [
       "'[{\"Title \": \"Mercedes-Benz\", \"Type \": \"Luxury vehicles company\"}, {\"Title \": \"Mercedes-Benz C-Class\", \"Type \": \"Mid-size car\"}, {\"Title \": \"Mercedes-Benz GLE-Class\", \"Type \": \"Luxury vehicle\"}, {\"Title \": \"Mercedes-Benz S-Class\", \"Type \": \"Luxury vehicle\"}, {\"Title \": \"Mercedes-Benz E-Class\", \"Type \": \"Luxury vehicle\"}]'"
      ]
     },
     "execution_count": 38,
     "metadata": {},
     "output_type": "execute_result"
    }
   ],
   "source": [
    "result = df.to_json(orient=\"records\")\n",
    "parsed = json.loads(result)\n",
    "json.dumps(parsed)"
   ]
  },
  {
   "cell_type": "code",
   "execution_count": null,
   "metadata": {},
   "outputs": [],
   "source": []
  }
 ],
 "metadata": {
  "kernelspec": {
   "display_name": "Python 3",
   "language": "python",
   "name": "python3"
  },
  "language_info": {
   "codemirror_mode": {
    "name": "ipython",
    "version": 3
   },
   "file_extension": ".py",
   "mimetype": "text/x-python",
   "name": "python",
   "nbconvert_exporter": "python",
   "pygments_lexer": "ipython3",
   "version": "3.8.3"
  }
 },
 "nbformat": 4,
 "nbformat_minor": 4
}
